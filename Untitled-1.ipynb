{
 "cells": [
  {
   "cell_type": "code",
   "execution_count": 5,
   "metadata": {},
   "outputs": [
    {
     "name": "stdout",
     "output_type": "stream",
     "text": [
      "相似度：1.0355029585798818%\n"
     ]
    }
   ],
   "source": [
    "import cv2\n",
    "import numpy as np\n",
    "\n",
    "# 加载两个图像\n",
    "img1 = cv2.imread('test2.jpg', cv2.IMREAD_GRAYSCALE)  # 上传的指纹图像\n",
    "img2 = cv2.imread('test.jpeg', cv2.IMREAD_GRAYSCALE)  # 数据库中的指纹图像\n",
    "\n",
    "# 确保两个图像大小相同\n",
    "img2 = cv2.resize(img2, (img1.shape[1], img1.shape[0]))\n",
    "\n",
    "# 使用SIFT特征匹配\n",
    "sift = cv2.SIFT_create()\n",
    "kp1, des1 = sift.detectAndCompute(img1, None)\n",
    "kp2, des2 = sift.detectAndCompute(img2, None)\n",
    "\n",
    "# 特征点匹配\n",
    "bf = cv2.BFMatcher()\n",
    "matches = bf.knnMatch(des1, des2, k=2)\n",
    "\n",
    "# 应用比率测试\n",
    "good = []\n",
    "for m,n in matches:\n",
    "    if m.distance < 0.75*n.distance:\n",
    "        good.append([m])\n",
    "\n",
    "# 计算匹配结果\n",
    "match_result = len(good)/len(matches)\n",
    "\n",
    "print(f\"相似度：{match_result*100}%\")\n"
   ]
  },
  {
   "cell_type": "code",
   "execution_count": 7,
   "metadata": {},
   "outputs": [
    {
     "name": "stdout",
     "output_type": "stream",
     "text": [
      "沒有找到匹配的指紋。\n"
     ]
    }
   ],
   "source": [
    "import cv2\n",
    "import numpy as np\n",
    "from pathlib import Path\n",
    "\n",
    "def compare_fingerprints(uploaded_img_path, database_folder_path):\n",
    "    uploaded_img = cv2.imread(uploaded_img_path, cv2.IMREAD_GRAYSCALE)\n",
    "    \n",
    "    if uploaded_img is None:\n",
    "        print(\"上傳的指紋圖像無法加載。\")\n",
    "        return\n",
    "    \n",
    "    # 獲取數據庫中所有的指紋圖像路徑\n",
    "    fingerprint_paths = list(Path(database_folder_path).glob('*.jpg'))\n",
    "    \n",
    "    for fingerprint_path in fingerprint_paths:\n",
    "        database_img = cv2.imread(str(fingerprint_path), cv2.IMREAD_GRAYSCALE)\n",
    "        \n",
    "        if database_img is None:\n",
    "            print(f\"數據庫中的指紋圖像 {fingerprint_path} 無法加載。\")\n",
    "            continue\n",
    "        \n",
    "        # 確保兩個圖像大小相同\n",
    "        database_img = cv2.resize(database_img, (uploaded_img.shape[1], uploaded_img.shape[0]))\n",
    "        \n",
    "        # 計算兩個圖像之間的相似度\n",
    "        similarity = cv2.matchTemplate(uploaded_img, database_img, cv2.TM_CCOEFF_NORMED)\n",
    "        max_similarity = np.max(similarity)\n",
    "        \n",
    "        if max_similarity >= 0.8:\n",
    "            print(f\"比對成功：{fingerprint_path}\")\n",
    "            return  # 找到匹配，結束函數\n",
    "    \n",
    "    print(\"沒有找到匹配的指紋。\")\n",
    "\n",
    "# 使用示例\n",
    "compare_fingerprints('images.jpg', 'database_fingerprints')\n"
   ]
  }
 ],
 "metadata": {
  "kernelspec": {
   "display_name": "work",
   "language": "python",
   "name": "python3"
  },
  "language_info": {
   "codemirror_mode": {
    "name": "ipython",
    "version": 3
   },
   "file_extension": ".py",
   "mimetype": "text/x-python",
   "name": "python",
   "nbconvert_exporter": "python",
   "pygments_lexer": "ipython3",
   "version": "3.12.1"
  }
 },
 "nbformat": 4,
 "nbformat_minor": 2
}
